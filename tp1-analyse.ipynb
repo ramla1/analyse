{
 "cells": [
  {
   "cell_type": "markdown",
   "metadata": {},
   "source": [
    "## isitcom"
   ]
  },
  {
   "cell_type": "markdown",
   "metadata": {},
   "source": [
    "### tp1 analyse numérique"
   ]
  },
  {
   "cell_type": "markdown",
   "metadata": {},
   "source": [
    "# EXERCICE 2:\n",
    ">On considère l'équation : $$ f(x)=x^3+x^2-3x-3=0$$\n",
    ">1) Dessiner la courbe de $f$ dans l'intervalle $[-2;2]$, puis trouver des intervalles convenables pour appliquer la méthode de >bisection.\n",
    ">\n",
    ">2) Utiliser un programme `dicho.m` qui permettra de trouver les solutions de l'équation $f(x)=0$ avec $eps=0.001$.\n",
    ">\n",
    ">3) Modifier le programme `dicho.m` pour qu'il donne le nombre d'itération nécessaire pour avoir la solution à $eps$ près."
   ]
  },
  {
   "cell_type": "markdown",
   "metadata": {},
   "source": [
    "####  1) Pour dessiner la courbe  $f$ on a utiliser le code suivant  :"
   ]
  },
  {
   "cell_type": "code",
   "execution_count": 4,
   "metadata": {},
   "outputs": [
    {
     "data": {
      "text/plain": [
       "[<matplotlib.lines.Line2D at 0x28958a6a130>]"
      ]
     },
     "execution_count": 4,
     "metadata": {},
     "output_type": "execute_result"
    },
    {
     "data": {
      "image/png": "[encoded data removed]",
      "text/plain": [
       "<Figure size 432x288 with 1 Axes>"
      ]
     },
     "metadata": {
      "needs_background": "light"
     },
     "output_type": "display_data"
    }
   ],
   "source": [
    "from numpy import linspace\n",
    "import matplotlib.pyplot as plt\n",
    "\n",
    "f=lambda x: x**3+x**2-3*x-3\n",
    "\n",
    "T=linspace(-2,2,100000)\n",
    "plt.title(\"solution dans [-2:2] \");\n",
    "plt.xlabel(\"x\")\n",
    "plt.ylabel (\"f(x)\")\n",
    "plt.grid(True)\n",
    "\n",
    "plt.plot(T,f(T))"
   ]
  },
  {
   "cell_type": "markdown",
   "metadata": {},
   "source": [
    "## Daprés le graph de $f$ il existe 3 solutions :\n",
    "- $\\alpha_1 \\in ]-2;-1.5[$ \n",
    "- $\\alpha_2 \\in ]-1.5;-0.5[$ \n",
    "- $\\alpha_3 \\in ]1.5;2[$ "
   ]
  },
  {
   "cell_type": "markdown",
   "metadata": {},
   "source": [
    "### 2) la fonction dichotomie permettra de trouver les solutions de l'équation $𝑓(𝑥)=0$ on lui donne : \n",
    "  <div style=\"text-align:right;\"> $$\\left \\{\n",
    "   \\begin{array}{r c l}\n",
    "     ]a , b[\\\\\n",
    "      f(x) \\\\\n",
    "      eps\n",
    "   \\end{array}\n",
    "   \\right. $$ </div>"
   ]
  },
  {
   "cell_type": "code",
   "execution_count": 6,
   "metadata": {},
   "outputs": [],
   "source": [
    "def dicho(a,b,f,eps):\n",
    "    '''version tant que '''\n",
    "    \n",
    "    while (b-a)>eps:\n",
    "        m=(a+b)/2\n",
    "        if f(m)==0:\n",
    "            return m\n",
    "        if f(a)*f(m)<0 :\n",
    "            b=m\n",
    "        else :\n",
    "            a=m\n",
    "    return m"
   ]
  },
  {
   "cell_type": "code",
   "execution_count": 7,
   "metadata": {},
   "outputs": [
    {
     "name": "stdout",
     "output_type": "stream",
     "text": [
      "-1.7314453125\n",
      "-1.0\n",
      "1.7314453125\n"
     ]
    }
   ],
   "source": [
    "interval=[[-2,-1.5],[-1.5,-0.5],[1.5,2]]\n",
    "for u in interval:\n",
    "    print(dicho(u[0],u[1],f,10**(-3)))"
   ]
  },
  {
   "cell_type": "markdown",
   "metadata": {},
   "source": [
    "| intervalle                             |     racine      | \n",
    "| -------------                          |: -------------: |\n",
    "|$ ]-2,-1.5[$                            |-1.7314453125    |\n",
    "| ]-1.5,-0.5[                            |       -1.0      |\n",
    "|$ ]1.5,2[$                              | 1.7314453125    |\n",
    "\n"
   ]
  },
  {
   "cell_type": "markdown",
   "metadata": {},
   "source": [
    "### 3)"
   ]
  },
  {
   "cell_type": "markdown",
   "metadata": {},
   "source": [
    "Le nombre d'itération ***N*** nécéssaire à la méthode de la dichotomie pour trouver $\\alpha$ à $10^{-p}$ prés \n",
    "\n",
    "$$N \\geq E\\left(\\dfrac{\\ln(b-a)+p\\ln(10)}{\\ln(2)}\\right)+1$$"
   ]
  },
  {
   "cell_type": "code",
   "execution_count": 28,
   "metadata": {},
   "outputs": [],
   "source": [
    "def dichow(a,b,f,eps):\n",
    "\n",
    "    cp=0\n",
    "    while (b-a)>eps:\n",
    "        m=(a+b)/2\n",
    "        if f(m)==0:\n",
    "            return m\n",
    "        if f(a)*f(m)<0 :\n",
    "            b=m\n",
    "        else :\n",
    "            a=m\n",
    "        cp+=1\n",
    "    return cp"
   ]
  },
  {
   "cell_type": "code",
   "execution_count": 29,
   "metadata": {},
   "outputs": [
    {
     "data": {
      "text/plain": [
       "9"
      ]
     },
     "execution_count": 29,
     "metadata": {},
     "output_type": "execute_result"
    }
   ],
   "source": [
    "f=lambda x: x**3+x**2-3*x-3\n",
    "dichow(-2,-1.5,f,0.001)"
   ]
  },
  {
   "cell_type": "markdown",
   "metadata": {},
   "source": [
    " <div style=\"text-align:left;\"> ca veut dire q'on obtient la racine **-1.7314453125** apres **9 itérations** pour ***p=3***\n",
    "\n",
    " $$\\circ \\hspace{0.5cm}  \\hspace{0.5cm} Si \\hspace{0.5cm} \\alpha_1 \\in ]-2;-1.5[ \n",
    "    \\hspace{0.5cm} et \\hspace{0.5cm}  p=3 \\Longrightarrow N=9 $$ </div>"
   ]
  },
  {
   "cell_type": "code",
   "execution_count": 10,
   "metadata": {},
   "outputs": [
    {
     "name": "stdout",
     "output_type": "stream",
     "text": [
      "16\n",
      "-1.0\n",
      "16\n"
     ]
    }
   ],
   "source": [
    "interval=[[-2,-1.5],[-1.5,-0.5],[1.5,2]]\n",
    "for u in interval:\n",
    "    print(dichow(u[0],u[1],f,10**(-5)))\n",
    "    "
   ]
  },
  {
   "cell_type": "markdown",
   "metadata": {},
   "source": [
    "$$\\circ \\hspace{0.5cm}  \\hspace{0.5cm} Si \\hspace{0.5cm} \\alpha \\in ]-2;-1.5[  \\hspace{0.5cm} et \\hspace{0.5cm}  p=5 \\Longrightarrow N=16 $$\n",
    "$$\\circ \\hspace{0.5cm}  \\hspace{0.5cm} Si \\hspace{0.5cm} \\alpha \\in ]-1.5;-0.5[  \\hspace{0.5cm} et \\hspace{0.5cm}  p=5 \\Longrightarrow N= -1 $$\n",
    "$$\\circ \\hspace{0.5cm}  \\hspace{0.5cm} Si \\hspace{0.5cm} \\alpha \\in ]1.5;2[ \\hspace{0.5cm} et \\hspace{0.5cm}  p=5 \\Longrightarrow N=16 $$"
   ]
  },
  {
   "cell_type": "code",
   "execution_count": 30,
   "metadata": {},
   "outputs": [
    {
     "data": {
      "text/plain": [
       "13.0"
      ]
     },
     "execution_count": 30,
     "metadata": {},
     "output_type": "execute_result"
    }
   ],
   "source": [
    "def ni(a,b,p):\n",
    "    return np.floor((np.log(b-a)+p*np.log(10))/np.log(2)+1)\n",
    "ni(-2,-1.5,4)"
   ]
  },
  {
   "cell_type": "code",
   "execution_count": 31,
   "metadata": {},
   "outputs": [
    {
     "data": {
      "text/plain": [
       "16"
      ]
     },
     "execution_count": 31,
     "metadata": {},
     "output_type": "execute_result"
    }
   ],
   "source": [
    "#alpha 1\n",
    "dichow(-2,-1.5,f,10**(-5))\n",
    "#à 10^-8"
   ]
  },
  {
   "cell_type": "code",
   "execution_count": 32,
   "metadata": {},
   "outputs": [
    {
     "data": {
      "text/plain": [
       "17"
      ]
     },
     "execution_count": 32,
     "metadata": {},
     "output_type": "execute_result"
    }
   ],
   "source": [
    "#alpha 2\n",
    "dichow(-1.51,-0.5,f,10**(-5))\n",
    "#à 10^-8"
   ]
  },
  {
   "cell_type": "code",
   "execution_count": 17,
   "metadata": {},
   "outputs": [
    {
     "data": {
      "image/png": "[encoded data removed]",
      "text/plain": [
       "<Figure size 432x288 with 4 Axes>"
      ]
     },
     "metadata": {
      "needs_background": "light"
     },
     "output_type": "display_data"
    }
   ],
   "source": [
    "%matplotlib inline\n",
    "#import mpld3\n",
    "#mpld3.enable_notebook()\n",
    "import numpy as np \n",
    "import matplotlib.pyplot as plt\n",
    "\n",
    "f=lambda x:x**3+x**2-3*x-3\n",
    "\n",
    "t=np.linspace(1.7,1.75,100)\n",
    "plt.subplot(2,2,1)\n",
    "plt.plot(t,f(t),'r')\n",
    "plt.grid(True)\n",
    "##########################################\n",
    "t=np.linspace(1.2,1.4,100)\n",
    "plt.subplot(2,2,2)\n",
    "plt.plot(t,f(t),'r')\n",
    "plt.grid(True)\n",
    "##########################################\n",
    "t=np.linspace(1.35,1.4,100)\n",
    "plt.subplot(2,2,3)\n",
    "plt.plot(t,f(t),'r')\n",
    "plt.grid(True)\n",
    "#########################################\n",
    "t=np.linspace(1.365,1.367,100)\n",
    "plt.subplot(2,2,4)\n",
    "plt.plot(t,f(t),'r')\n",
    "plt.grid(True)"
   ]
  },
  {
   "cell_type": "code",
   "execution_count": null,
   "metadata": {},
   "outputs": [],
   "source": []
  }
 ],
 "metadata": {
  "kernelspec": {
   "display_name": "Python 3",
   "language": "python",
   "name": "python3"
  },
  "language_info": {
   "codemirror_mode": {
    "name": "ipython",
    "version": 3
   },
   "file_extension": ".py",
   "mimetype": "text/x-python",
   "name": "python",
   "nbconvert_exporter": "python",
   "pygments_lexer": "ipython3",
   "version": "3.8.3"
  }
 },
 "nbformat": 4,
 "nbformat_minor": 4
}
